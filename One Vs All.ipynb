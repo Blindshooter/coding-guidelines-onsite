{
 "cells": [
  {
   "cell_type": "markdown",
   "metadata": {},
   "source": [
    "## Overview - Best Next Action\n",
    "\n",
    "Banks make a margin on every credit card transaction that is made by their customers. So they want their customers to spend more on their credit cards. In order to increase credit card spending, the bank sends marketing messages to their customers to encourage those customers to use their credit cards more. These messages may be sent via email, mail or SMS. The messages may be retail discount offers, holiday destinations or gift ideas.\n",
    "\n",
    "But with a large pool of customers and range of communication channels and messages, how does the bank know who to target with which channel and which message? Traditionally, marketers apply customer segmentation across the entire customer database. However, every customer is unique. Some organizations send the same messages to all customers or to all customers in a segment, but this might be seen as annoying SPAM and push customers away.\n",
    "\n",
    "The solution is to develop a targeted Next Best Action for each individual customer, which is which channel and message to send next to each individual. Sometimes the next best action is to send nothing."
   ]
  },
  {
   "cell_type": "markdown",
   "metadata": {},
   "source": [
    "## Classification Problems In DataRobot"
   ]
  },
  {
   "cell_type": "markdown",
   "metadata": {},
   "source": [
    "The problem described above is a classification problem.  In DataRobot, we characterize classifications problem in 1 of 3 ways. \n",
    "\n",
    "1.  Binary Classification: 2 classes\n",
    "\n",
    "2.  Multiclass: 3-10 classes\n",
    "\n",
    "3.  Extended Multiclass: 11 to 100 classes.  "
   ]
  },
  {
   "cell_type": "code",
   "execution_count": 391,
   "metadata": {},
   "outputs": [],
   "source": [
    "import pandas as pd\n",
    "import numpy as np\n",
    "import seaborn as sns\n",
    "from matplotlib import colors\n",
    "from scipy import interp\n",
    "import matplotlib.pyplot as plt\n",
    "import matplotlib.ticker as mtick"
   ]
  },
  {
   "cell_type": "code",
   "execution_count": 392,
   "metadata": {},
   "outputs": [
    {
     "data": {
      "text/plain": [
       "<datarobot.rest.RESTClientObject at 0x1a2c0bf8d0>"
      ]
     },
     "execution_count": 392,
     "metadata": {},
     "output_type": "execute_result"
    }
   ],
   "source": [
    "from config import *\n",
    "import datarobot as dr\n",
    "dr.Client(token=DATAROBOT_API_TOKEN, endpoint=DATAROBOT_ENDPOINT)"
   ]
  },
  {
   "cell_type": "code",
   "execution_count": 393,
   "metadata": {},
   "outputs": [
    {
     "data": {
      "text/html": [
       "<div>\n",
       "<style scoped>\n",
       "    .dataframe tbody tr th:only-of-type {\n",
       "        vertical-align: middle;\n",
       "    }\n",
       "\n",
       "    .dataframe tbody tr th {\n",
       "        vertical-align: top;\n",
       "    }\n",
       "\n",
       "    .dataframe thead th {\n",
       "        text-align: right;\n",
       "    }\n",
       "</style>\n",
       "<table border=\"1\" class=\"dataframe\">\n",
       "  <thead>\n",
       "    <tr style=\"text-align: right;\">\n",
       "      <th></th>\n",
       "      <th>Special Column?</th>\n",
       "      <th>Description</th>\n",
       "    </tr>\n",
       "    <tr>\n",
       "      <th>Feature</th>\n",
       "      <th></th>\n",
       "      <th></th>\n",
       "    </tr>\n",
       "  </thead>\n",
       "  <tbody>\n",
       "    <tr>\n",
       "      <th>age</th>\n",
       "      <td>NaN</td>\n",
       "      <td>age of the customer</td>\n",
       "    </tr>\n",
       "    <tr>\n",
       "      <th>marital</th>\n",
       "      <td>NaN</td>\n",
       "      <td>marital status of the customer</td>\n",
       "    </tr>\n",
       "    <tr>\n",
       "      <th>income</th>\n",
       "      <td>NaN</td>\n",
       "      <td>annual income of the customer</td>\n",
       "    </tr>\n",
       "    <tr>\n",
       "      <th>creditRating</th>\n",
       "      <td>NaN</td>\n",
       "      <td>customer's credit rating</td>\n",
       "    </tr>\n",
       "    <tr>\n",
       "      <th>aveSpend</th>\n",
       "      <td>NaN</td>\n",
       "      <td>customer's average credit card spend per month</td>\n",
       "    </tr>\n",
       "    <tr>\n",
       "      <th>touchpoints</th>\n",
       "      <td>NaN</td>\n",
       "      <td>list of marketing touchpoints this customer ha...</td>\n",
       "    </tr>\n",
       "    <tr>\n",
       "      <th>nTouchpoints</th>\n",
       "      <td>NaN</td>\n",
       "      <td>number of marketing touchpoints this customer ...</td>\n",
       "    </tr>\n",
       "    <tr>\n",
       "      <th>action</th>\n",
       "      <td>TARGET</td>\n",
       "      <td>which marketing touchpoint to send to the cust...</td>\n",
       "    </tr>\n",
       "  </tbody>\n",
       "</table>\n",
       "</div>"
      ],
      "text/plain": [
       "             Special Column?  \\\n",
       "Feature                        \n",
       "age                      NaN   \n",
       "marital                  NaN   \n",
       "income                   NaN   \n",
       "creditRating             NaN   \n",
       "aveSpend                 NaN   \n",
       "touchpoints              NaN   \n",
       "nTouchpoints             NaN   \n",
       "action                TARGET   \n",
       "\n",
       "                                                    Description  \n",
       "Feature                                                          \n",
       "age                                         age of the customer  \n",
       "marital                          marital status of the customer  \n",
       "income                            annual income of the customer  \n",
       "creditRating                           customer's credit rating  \n",
       "aveSpend         customer's average credit card spend per month  \n",
       "touchpoints   list of marketing touchpoints this customer ha...  \n",
       "nTouchpoints  number of marketing touchpoints this customer ...  \n",
       "action        which marketing touchpoint to send to the cust...  "
      ]
     },
     "execution_count": 393,
     "metadata": {},
     "output_type": "execute_result"
    }
   ],
   "source": [
    "data_dict"
   ]
  },
  {
   "cell_type": "code",
   "execution_count": 394,
   "metadata": {},
   "outputs": [
    {
     "name": "stdout",
     "output_type": "stream",
     "text": [
      "Fields in the data set\n",
      "age : age of the customer\n",
      "marital : marital status of the customer\n",
      "income : annual income of the customer\n",
      "creditRating : customer's credit rating\n",
      "aveSpend : customer's average credit card spend per month\n",
      "touchpoints : list of marketing touchpoints this customer has experienced during the data period\n",
      "nTouchpoints : number of marketing touchpoints this customer has experienced during the data period\n",
      "action : which marketing touchpoint to send to the customer next\n"
     ]
    }
   ],
   "source": [
    "data_dict = pd.read_excel(\"DR_Demo_Next_Best_Action_Data_Dictionary.xlsx\")\n",
    "data_dict.set_index(\"Feature\", inplace=True)\n",
    "print(\"Fields in the data set\")\n",
    "for idx in data_dict.index:\n",
    "    print(idx,\":\", data_dict.loc[idx][\"Description\"])"
   ]
  },
  {
   "cell_type": "code",
   "execution_count": 395,
   "metadata": {},
   "outputs": [],
   "source": [
    "## read in dataa\n",
    "df = pd.read_csv(\"DR_Demo_Next_Best_Action.csv\")"
   ]
  },
  {
   "cell_type": "code",
   "execution_count": 396,
   "metadata": {},
   "outputs": [
    {
     "data": {
      "text/plain": [
       "<matplotlib.axes._subplots.AxesSubplot at 0x1a2c0bfe80>"
      ]
     },
     "execution_count": 396,
     "metadata": {},
     "output_type": "execute_result"
    },
    {
     "data": {
      "image/png": "[encoded data removed]",
      "text/plain": [
       "<Figure size 864x576 with 1 Axes>"
      ]
     },
     "metadata": {
      "needs_background": "light"
     },
     "output_type": "display_data"
    }
   ],
   "source": [
    "# frequency plot of target variable \n",
    "fig, ax = plt.subplots(1,1,figsize=[12,8])\n",
    "freq= pd.crosstab(index=df[\"action\"],columns=\"count\")\n",
    "(freq / freq.sum()).plot(kind=\"bar\", legend=False, ax=ax)"
   ]
  },
  {
   "cell_type": "code",
   "execution_count": 328,
   "metadata": {},
   "outputs": [
    {
     "name": "stdout",
     "output_type": "stream",
     "text": [
      "col_0              count\n",
      "action                  \n",
      "email destination   2432\n",
      "email discount      3820\n",
      "email gift          2163\n",
      "mail destination     332\n",
      "mail discount        362\n",
      "mail gift            551\n",
      "no action           3100\n",
      "sms destination     1175\n",
      "sms discount        2014\n",
      "sms gift            4051\n"
     ]
    }
   ],
   "source": [
    "print(freq)"
   ]
  },
  {
   "cell_type": "markdown",
   "metadata": {},
   "source": [
    "## What kind of classification?\n",
    "\n",
    "This is a multiclass problem as there are 10 unique classes.  In DataRobot there are two ways in which we can handle this problem.  \n",
    "\n",
    "1.  Multiclass Classification\n",
    "2.  One Vs. All Classification"
   ]
  },
  {
   "cell_type": "code",
   "execution_count": 211,
   "metadata": {},
   "outputs": [
    {
     "data": {
      "text/plain": [
       "'5'"
      ]
     },
     "execution_count": 211,
     "metadata": {},
     "output_type": "execute_result"
    }
   ],
   "source": [
    "## kick of our multiclass project\n",
    "\n",
    "mcp = dr.Project.create(df, project_name = \"multiclass\")\n",
    "mcp.set_target(target=\"action\",mode=\"manual\")\n",
    "blueprints = mcp.get_blueprints()\n",
    "## for simplicity, we'll run one xgboost model (instead of full autopilot)\n",
    "model = list(filter(lambda x: \"eXtreme\" in str(x), blueprints)).pop(0)\n",
    "mcp.train(model, sample_pct=64)\n",
    "mcp_model = mcp.get_models()[0]"
   ]
  },
  {
   "cell_type": "code",
   "execution_count": 224,
   "metadata": {},
   "outputs": [],
   "source": [
    "mcp_model = mcp.get_models()[0]"
   ]
  },
  {
   "cell_type": "markdown",
   "metadata": {},
   "source": [
    "## One Vs All"
   ]
  },
  {
   "cell_type": "code",
   "execution_count": 19,
   "metadata": {},
   "outputs": [
    {
     "data": {
      "text/plain": [
       "array(['email discount', 'sms gift', 'sms discount', 'sms destination',\n",
       "       'email destination', 'no action', 'email gift', 'mail gift',\n",
       "       'mail destination', 'mail discount'], dtype=object)"
      ]
     },
     "execution_count": 19,
     "metadata": {},
     "output_type": "execute_result"
    }
   ],
   "source": [
    "classes = df[\"action\"].unique()"
   ]
  },
  {
   "cell_type": "code",
   "execution_count": 50,
   "metadata": {},
   "outputs": [],
   "source": [
    "def one_vs_all_mf(multiclass_column_name, data):\n",
    "    ## create a project per class for a one vs all type problem\n",
    "    ## train an xgboost per project\n",
    "    project_list = []\n",
    "    classes = data[multiclass_column_name].unique()\n",
    "    for c in classes:\n",
    "        df[\"target\"] = df[multiclass_column_name].apply(lambda x: x == c)\n",
    "        p = dr.Project.create(df.drop([multiclass_column_name],axis=1), project_name = c)\n",
    "        p.set_target(\"target\", mode=\"manual\")\n",
    "        blueprints = p.get_blueprints()\n",
    "        model = list(filter(lambda x: \"eXtreme\" in str(x), blueprints)).pop(0)\n",
    "        p.train(model, sample_pct=64)\n",
    "        project_list.append(p)\n",
    "    return project_list"
   ]
  },
  {
   "cell_type": "code",
   "execution_count": 51,
   "metadata": {},
   "outputs": [],
   "source": [
    "projects = one_vs_all_mf(\"action\", df)"
   ]
  },
  {
   "cell_type": "code",
   "execution_count": null,
   "metadata": {},
   "outputs": [],
   "source": [
    "# df[\"partition\"] # i would set this\n",
    "\n",
    "# dr.AdvancedOptions()"
   ]
  },
  {
   "cell_type": "code",
   "execution_count": 447,
   "metadata": {},
   "outputs": [
    {
     "data": {
      "text/plain": [
       "[Project(email discount),\n",
       " Project(sms gift),\n",
       " Project(sms discount),\n",
       " Project(sms destination),\n",
       " Project(email destination),\n",
       " Project(no action),\n",
       " Project(email gift),\n",
       " Project(mail gift),\n",
       " Project(mail destination),\n",
       " Project(mail discount)]"
      ]
     },
     "execution_count": 447,
     "metadata": {},
     "output_type": "execute_result"
    }
   ],
   "source": [
    "projects"
   ]
  },
  {
   "cell_type": "code",
   "execution_count": 59,
   "metadata": {},
   "outputs": [],
   "source": [
    "models = [p.get_models()[0] for p in projects]"
   ]
  },
  {
   "cell_type": "markdown",
   "metadata": {},
   "source": [
    "# A one vs all ROC and AUC"
   ]
  },
  {
   "cell_type": "code",
   "execution_count": 135,
   "metadata": {},
   "outputs": [
    {
     "name": "stderr",
     "output_type": "stream",
     "text": [
      "/anaconda3/lib/python3.7/site-packages/ipykernel_launcher.py:8: DataRobotDeprecationWarning: `project` has been deprecated in `v2.3`, will be removed in `v3.0`. Use Model.project_id instead\n",
      "  \n"
     ]
    }
   ],
   "source": [
    "roc_curves = {}\n",
    "for m in models:\n",
    "    roc_points = m.get_all_roc_curves()[0].roc_points\n",
    "    points = [(x[\"false_positive_rate\"],x[\"true_positive_rate\"]) for x in roc_points]\n",
    "    fpr, tpr = zip(*points)\n",
    "    roc_curves[\"{} - AUC: {:.3}\".format(str(m.project), m.metrics[\"AUC\"][\"validation\"])] = {\"tpr\":tpr, \"fpr\":fpr}\n"
   ]
  },
  {
   "cell_type": "code",
   "execution_count": 293,
   "metadata": {},
   "outputs": [],
   "source": [
    "## average out the roc curves\n",
    "## taken from https://scikit-learn.org/stable/auto_examples/model_selection/plot_roc.html\n",
    "\n",
    "n_classes = len(classes)\n",
    "\n",
    "all_fpr = np.unique(np.concatenate([y[\"fpr\"] for x,y in roc_curves.items()]))\n",
    "\n",
    "# Then interpolate all ROC curves at this points\n",
    "mean_tpr = np.zeros_like(all_fpr)\n",
    "\n",
    "for x,y in roc_curves.items():\n",
    "    mean_tpr += interp(all_fpr, y[\"fpr\"], y[\"tpr\"]) \n",
    "\n",
    "# Finally average it and compute AUC\n",
    "mean_tpr /= n_classes # freq.sum().values[0] #n_classes\n",
    "\n",
    "from sklearn.metrics import roc_curve, auc\n",
    "fpr_macro = all_fpr\n",
    "tpr_macro = mean_tpr\n",
    "auc_macro = auc(fpr_macro, tpr_macro)"
   ]
  },
  {
   "cell_type": "code",
   "execution_count": 432,
   "metadata": {},
   "outputs": [
    {
     "data": {
      "image/png": "[encoded data removed]",
      "text/plain": [
       "<Figure size 864x576 with 1 Axes>"
      ]
     },
     "metadata": {
      "needs_background": "light"
     },
     "output_type": "display_data"
    }
   ],
   "source": [
    "np.random.seed(138)\n",
    "plt.figure(figsize=[12,8])\n",
    "lw=2\n",
    "for x,y in roc_curves.items():\n",
    "    plt.plot(y[\"fpr\"],y[\"tpr\"], c = np.random.rand(3,), lw=lw, label = str(x))\n",
    "plt.plot([0, 1], [0, 1], color='navy', lw=lw, linestyle='--')\n",
    "plt.plot(fpr_macro, tpr_macro, color=\"red\", lw=3, linestyle=\"--\",label = \"average {:.3}\".format(auc_macro))\n",
    "plt.legend(loc=\"lower right\");"
   ]
  },
  {
   "cell_type": "code",
   "execution_count": 341,
   "metadata": {},
   "outputs": [],
   "source": []
  },
  {
   "cell_type": "code",
   "execution_count": 342,
   "metadata": {},
   "outputs": [
    {
     "name": "stderr",
     "output_type": "stream",
     "text": [
      "/anaconda3/lib/python3.7/site-packages/ipykernel_launcher.py:5: DataRobotDeprecationWarning: `project` has been deprecated in `v2.3`, will be removed in `v3.0`. Use Model.project_id instead\n",
      "  \"\"\"\n"
     ]
    },
    {
     "data": {
      "text/html": [
       "<div>\n",
       "<style scoped>\n",
       "    .dataframe tbody tr th:only-of-type {\n",
       "        vertical-align: middle;\n",
       "    }\n",
       "\n",
       "    .dataframe tbody tr th {\n",
       "        vertical-align: top;\n",
       "    }\n",
       "\n",
       "    .dataframe thead th {\n",
       "        text-align: right;\n",
       "    }\n",
       "</style>\n",
       "<table border=\"1\" class=\"dataframe\">\n",
       "  <thead>\n",
       "    <tr style=\"text-align: right;\">\n",
       "      <th></th>\n",
       "      <th>age</th>\n",
       "      <th>aveSpend</th>\n",
       "      <th>creditRating</th>\n",
       "      <th>income</th>\n",
       "      <th>marital</th>\n",
       "      <th>nTouchpoints</th>\n",
       "      <th>touchpoints</th>\n",
       "    </tr>\n",
       "  </thead>\n",
       "  <tbody>\n",
       "    <tr>\n",
       "      <th>Project(email discount)</th>\n",
       "      <td>0.560065</td>\n",
       "      <td>0.445480</td>\n",
       "      <td>0.082126</td>\n",
       "      <td>0.501364</td>\n",
       "      <td>0.110289</td>\n",
       "      <td>0.248386</td>\n",
       "      <td>1.000000</td>\n",
       "    </tr>\n",
       "    <tr>\n",
       "      <th>Project(sms gift)</th>\n",
       "      <td>0.150182</td>\n",
       "      <td>0.096783</td>\n",
       "      <td>0.026667</td>\n",
       "      <td>0.143953</td>\n",
       "      <td>0.074607</td>\n",
       "      <td>0.082838</td>\n",
       "      <td>1.000000</td>\n",
       "    </tr>\n",
       "    <tr>\n",
       "      <th>Project(sms discount)</th>\n",
       "      <td>0.126618</td>\n",
       "      <td>0.134826</td>\n",
       "      <td>0.039019</td>\n",
       "      <td>0.132522</td>\n",
       "      <td>0.051054</td>\n",
       "      <td>0.076273</td>\n",
       "      <td>1.000000</td>\n",
       "    </tr>\n",
       "    <tr>\n",
       "      <th>Project(sms destination)</th>\n",
       "      <td>1.000000</td>\n",
       "      <td>0.645773</td>\n",
       "      <td>0.197698</td>\n",
       "      <td>0.785179</td>\n",
       "      <td>0.103930</td>\n",
       "      <td>0.497621</td>\n",
       "      <td>0.692883</td>\n",
       "    </tr>\n",
       "    <tr>\n",
       "      <th>Project(email destination)</th>\n",
       "      <td>0.202693</td>\n",
       "      <td>0.323884</td>\n",
       "      <td>0.058946</td>\n",
       "      <td>0.348002</td>\n",
       "      <td>0.120995</td>\n",
       "      <td>0.139804</td>\n",
       "      <td>1.000000</td>\n",
       "    </tr>\n",
       "    <tr>\n",
       "      <th>Project(no action)</th>\n",
       "      <td>0.092821</td>\n",
       "      <td>0.154674</td>\n",
       "      <td>0.036277</td>\n",
       "      <td>0.084925</td>\n",
       "      <td>0.025760</td>\n",
       "      <td>1.000000</td>\n",
       "      <td>0.535693</td>\n",
       "    </tr>\n",
       "    <tr>\n",
       "      <th>Project(email gift)</th>\n",
       "      <td>0.706552</td>\n",
       "      <td>0.576108</td>\n",
       "      <td>0.141443</td>\n",
       "      <td>0.545094</td>\n",
       "      <td>0.127748</td>\n",
       "      <td>0.283187</td>\n",
       "      <td>1.000000</td>\n",
       "    </tr>\n",
       "    <tr>\n",
       "      <th>Project(mail gift)</th>\n",
       "      <td>0.506428</td>\n",
       "      <td>0.509347</td>\n",
       "      <td>0.268505</td>\n",
       "      <td>0.503160</td>\n",
       "      <td>0.109489</td>\n",
       "      <td>0.388790</td>\n",
       "      <td>1.000000</td>\n",
       "    </tr>\n",
       "    <tr>\n",
       "      <th>Project(mail destination)</th>\n",
       "      <td>0.508408</td>\n",
       "      <td>0.603282</td>\n",
       "      <td>0.212436</td>\n",
       "      <td>0.661349</td>\n",
       "      <td>0.100574</td>\n",
       "      <td>0.576074</td>\n",
       "      <td>1.000000</td>\n",
       "    </tr>\n",
       "    <tr>\n",
       "      <th>Project(mail discount)</th>\n",
       "      <td>0.418319</td>\n",
       "      <td>0.499071</td>\n",
       "      <td>0.098852</td>\n",
       "      <td>0.317490</td>\n",
       "      <td>0.039882</td>\n",
       "      <td>0.300177</td>\n",
       "      <td>1.000000</td>\n",
       "    </tr>\n",
       "  </tbody>\n",
       "</table>\n",
       "</div>"
      ],
      "text/plain": [
       "                                 age  aveSpend  creditRating    income  \\\n",
       "Project(email discount)     0.560065  0.445480      0.082126  0.501364   \n",
       "Project(sms gift)           0.150182  0.096783      0.026667  0.143953   \n",
       "Project(sms discount)       0.126618  0.134826      0.039019  0.132522   \n",
       "Project(sms destination)    1.000000  0.645773      0.197698  0.785179   \n",
       "Project(email destination)  0.202693  0.323884      0.058946  0.348002   \n",
       "Project(no action)          0.092821  0.154674      0.036277  0.084925   \n",
       "Project(email gift)         0.706552  0.576108      0.141443  0.545094   \n",
       "Project(mail gift)          0.506428  0.509347      0.268505  0.503160   \n",
       "Project(mail destination)   0.508408  0.603282      0.212436  0.661349   \n",
       "Project(mail discount)      0.418319  0.499071      0.098852  0.317490   \n",
       "\n",
       "                             marital  nTouchpoints  touchpoints  \n",
       "Project(email discount)     0.110289      0.248386     1.000000  \n",
       "Project(sms gift)           0.074607      0.082838     1.000000  \n",
       "Project(sms discount)       0.051054      0.076273     1.000000  \n",
       "Project(sms destination)    0.103930      0.497621     0.692883  \n",
       "Project(email destination)  0.120995      0.139804     1.000000  \n",
       "Project(no action)          0.025760      1.000000     0.535693  \n",
       "Project(email gift)         0.127748      0.283187     1.000000  \n",
       "Project(mail gift)          0.109489      0.388790     1.000000  \n",
       "Project(mail destination)   0.100574      0.576074     1.000000  \n",
       "Project(mail discount)      0.039882      0.300177     1.000000  "
      ]
     },
     "execution_count": 342,
     "metadata": {},
     "output_type": "execute_result"
    }
   ],
   "source": [
    "[m.request_feature_impact() for m in models]\n",
    "## make a table of normalized feature impacts \n",
    "## columns will be features rows will be project.  \n",
    "#mcp_fi = pd.DataFrame(mcp_model.get_or_request_feature_impact()).set_index(\"featureName\")[\"impactNormalized\"]\n",
    "projects_fi = [pd.DataFrame(m.get_feature_impact()).set_index(\"featureName\")[\"impactNormalized\"] for m in models]\n",
    "#projects_fi.append(mcp_fi)\n",
    "fi_columns = [str(m.project) for m in models]\n",
    "#fi_columns.append(\"mcp\")\n",
    "fi = pd.concat([p.T for p in projects_fi],sort=True,axis=1)\n",
    "fi.columns = fi_columns\n",
    "fi.T"
   ]
  },
  {
   "cell_type": "code",
   "execution_count": 339,
   "metadata": {},
   "outputs": [],
   "source": [
    "fi_sorted = np.argsort(fi.T, axis=1)\n",
    "for c in fi_sorted.columns:\n",
    "    fi_sorted[c] = fi_sorted[c].apply(lambda x: fi_sorted.columns[x])    \n",
    "fi_sorted.columns = [ \"feature {}\".format(i) for i in np.arange(fi_sorted.shape[1])]"
   ]
  },
  {
   "cell_type": "code",
   "execution_count": 354,
   "metadata": {},
   "outputs": [
    {
     "data": {
      "text/html": [
       "<div>\n",
       "<style scoped>\n",
       "    .dataframe tbody tr th:only-of-type {\n",
       "        vertical-align: middle;\n",
       "    }\n",
       "\n",
       "    .dataframe tbody tr th {\n",
       "        vertical-align: top;\n",
       "    }\n",
       "\n",
       "    .dataframe thead th {\n",
       "        text-align: right;\n",
       "    }\n",
       "</style>\n",
       "<table border=\"1\" class=\"dataframe\">\n",
       "  <thead>\n",
       "    <tr style=\"text-align: right;\">\n",
       "      <th></th>\n",
       "      <th>feature 0</th>\n",
       "      <th>feature 1</th>\n",
       "      <th>feature 2</th>\n",
       "      <th>feature 3</th>\n",
       "      <th>feature 4</th>\n",
       "      <th>feature 5</th>\n",
       "      <th>feature 6</th>\n",
       "    </tr>\n",
       "  </thead>\n",
       "  <tbody>\n",
       "    <tr>\n",
       "      <th>Project(email discount)</th>\n",
       "      <td>creditRating</td>\n",
       "      <td>marital</td>\n",
       "      <td>nTouchpoints</td>\n",
       "      <td>aveSpend</td>\n",
       "      <td>income</td>\n",
       "      <td>age</td>\n",
       "      <td>touchpoints</td>\n",
       "    </tr>\n",
       "    <tr>\n",
       "      <th>Project(sms gift)</th>\n",
       "      <td>creditRating</td>\n",
       "      <td>marital</td>\n",
       "      <td>nTouchpoints</td>\n",
       "      <td>aveSpend</td>\n",
       "      <td>income</td>\n",
       "      <td>age</td>\n",
       "      <td>touchpoints</td>\n",
       "    </tr>\n",
       "    <tr>\n",
       "      <th>Project(sms discount)</th>\n",
       "      <td>creditRating</td>\n",
       "      <td>marital</td>\n",
       "      <td>nTouchpoints</td>\n",
       "      <td>age</td>\n",
       "      <td>income</td>\n",
       "      <td>aveSpend</td>\n",
       "      <td>touchpoints</td>\n",
       "    </tr>\n",
       "    <tr>\n",
       "      <th>Project(sms destination)</th>\n",
       "      <td>marital</td>\n",
       "      <td>creditRating</td>\n",
       "      <td>nTouchpoints</td>\n",
       "      <td>aveSpend</td>\n",
       "      <td>touchpoints</td>\n",
       "      <td>income</td>\n",
       "      <td>age</td>\n",
       "    </tr>\n",
       "    <tr>\n",
       "      <th>Project(email destination)</th>\n",
       "      <td>creditRating</td>\n",
       "      <td>marital</td>\n",
       "      <td>nTouchpoints</td>\n",
       "      <td>age</td>\n",
       "      <td>aveSpend</td>\n",
       "      <td>income</td>\n",
       "      <td>touchpoints</td>\n",
       "    </tr>\n",
       "    <tr>\n",
       "      <th>Project(no action)</th>\n",
       "      <td>marital</td>\n",
       "      <td>creditRating</td>\n",
       "      <td>income</td>\n",
       "      <td>age</td>\n",
       "      <td>aveSpend</td>\n",
       "      <td>touchpoints</td>\n",
       "      <td>nTouchpoints</td>\n",
       "    </tr>\n",
       "    <tr>\n",
       "      <th>Project(email gift)</th>\n",
       "      <td>marital</td>\n",
       "      <td>creditRating</td>\n",
       "      <td>nTouchpoints</td>\n",
       "      <td>income</td>\n",
       "      <td>aveSpend</td>\n",
       "      <td>age</td>\n",
       "      <td>touchpoints</td>\n",
       "    </tr>\n",
       "    <tr>\n",
       "      <th>Project(mail gift)</th>\n",
       "      <td>marital</td>\n",
       "      <td>creditRating</td>\n",
       "      <td>nTouchpoints</td>\n",
       "      <td>income</td>\n",
       "      <td>age</td>\n",
       "      <td>aveSpend</td>\n",
       "      <td>touchpoints</td>\n",
       "    </tr>\n",
       "    <tr>\n",
       "      <th>Project(mail destination)</th>\n",
       "      <td>marital</td>\n",
       "      <td>creditRating</td>\n",
       "      <td>age</td>\n",
       "      <td>nTouchpoints</td>\n",
       "      <td>aveSpend</td>\n",
       "      <td>income</td>\n",
       "      <td>touchpoints</td>\n",
       "    </tr>\n",
       "    <tr>\n",
       "      <th>Project(mail discount)</th>\n",
       "      <td>marital</td>\n",
       "      <td>creditRating</td>\n",
       "      <td>nTouchpoints</td>\n",
       "      <td>income</td>\n",
       "      <td>age</td>\n",
       "      <td>aveSpend</td>\n",
       "      <td>touchpoints</td>\n",
       "    </tr>\n",
       "  </tbody>\n",
       "</table>\n",
       "</div>"
      ],
      "text/plain": [
       "                               feature 0     feature 1     feature 2  \\\n",
       "Project(email discount)     creditRating       marital  nTouchpoints   \n",
       "Project(sms gift)           creditRating       marital  nTouchpoints   \n",
       "Project(sms discount)       creditRating       marital  nTouchpoints   \n",
       "Project(sms destination)         marital  creditRating  nTouchpoints   \n",
       "Project(email destination)  creditRating       marital  nTouchpoints   \n",
       "Project(no action)               marital  creditRating        income   \n",
       "Project(email gift)              marital  creditRating  nTouchpoints   \n",
       "Project(mail gift)               marital  creditRating  nTouchpoints   \n",
       "Project(mail destination)        marital  creditRating           age   \n",
       "Project(mail discount)           marital  creditRating  nTouchpoints   \n",
       "\n",
       "                               feature 3    feature 4    feature 5  \\\n",
       "Project(email discount)         aveSpend       income          age   \n",
       "Project(sms gift)               aveSpend       income          age   \n",
       "Project(sms discount)                age       income     aveSpend   \n",
       "Project(sms destination)        aveSpend  touchpoints       income   \n",
       "Project(email destination)           age     aveSpend       income   \n",
       "Project(no action)                   age     aveSpend  touchpoints   \n",
       "Project(email gift)               income     aveSpend          age   \n",
       "Project(mail gift)                income          age     aveSpend   \n",
       "Project(mail destination)   nTouchpoints     aveSpend       income   \n",
       "Project(mail discount)            income          age     aveSpend   \n",
       "\n",
       "                               feature 6  \n",
       "Project(email discount)      touchpoints  \n",
       "Project(sms gift)            touchpoints  \n",
       "Project(sms discount)        touchpoints  \n",
       "Project(sms destination)             age  \n",
       "Project(email destination)   touchpoints  \n",
       "Project(no action)          nTouchpoints  \n",
       "Project(email gift)          touchpoints  \n",
       "Project(mail gift)           touchpoints  \n",
       "Project(mail destination)    touchpoints  \n",
       "Project(mail discount)       touchpoints  "
      ]
     },
     "execution_count": 354,
     "metadata": {},
     "output_type": "execute_result"
    }
   ],
   "source": [
    "fi_sorted"
   ]
  },
  {
   "cell_type": "markdown",
   "metadata": {},
   "source": [
    "## Feature Impact for the Multiclass XGBoost"
   ]
  },
  {
   "cell_type": "code",
   "execution_count": 446,
   "metadata": {},
   "outputs": [
    {
     "data": {
      "text/plain": [
       "Text(0.5, 1.04, 'Feature Impact')"
      ]
     },
     "execution_count": 446,
     "metadata": {},
     "output_type": "execute_result"
    },
    {
     "data": {
      "image/png": "[encoded data removed]",
      "text/plain": [
       "<Figure size 864x576 with 1 Axes>"
      ]
     },
     "metadata": {
      "needs_background": "light"
     },
     "output_type": "display_data"
    }
   ],
   "source": [
    "mcp_fi = pd.DataFrame(mcp_model.get_or_request_feature_impact())\n",
    "\n",
    "# Formats the ticks from a float into a percent\n",
    "percent_tick_fmt = mtick.PercentFormatter(xmax=1.0)\n",
    "\n",
    "dr_dark_blue = '#08233F'\n",
    "dr_blue = '#1F77B4'\n",
    "dr_orange = '#FF7F0E'\n",
    "dr_red = '#BE3C28'\n",
    "\n",
    "mcp_fi.sort_values(by='impactNormalized', ascending=True, inplace=True)\n",
    "\n",
    "# Positive values are blue, negative are red\n",
    "bar_colors = mcp_fi.impactNormalized.apply(lambda x: dr_red if x < 0\n",
    "                                              else dr_blue)\n",
    "\n",
    "ax = mcp_fi.plot.barh(x='featureName', y='impactNormalized',\n",
    "                         legend=False,\n",
    "                         color=bar_colors,\n",
    "                         figsize=(12, 8))\n",
    "\n",
    "plt.ylabel('')\n",
    "plt.xlabel('Effect')\n",
    "# plt.xlim((None, 1))  # Allow for negative impact\n",
    "plt.title('Feature Impact', y=1.04)"
   ]
  },
  {
   "cell_type": "code",
   "execution_count": 375,
   "metadata": {},
   "outputs": [
    {
     "data": {
      "text/plain": [
       "<matplotlib.axes._subplots.AxesSubplot at 0x1a2a480be0>"
      ]
     },
     "execution_count": 375,
     "metadata": {},
     "output_type": "execute_result"
    },
    {
     "data": {
      "image/png": "[encoded data removed]",
      "text/plain": [
       "<Figure size 864x576 with 1 Axes>"
      ]
     },
     "metadata": {
      "needs_background": "light"
     },
     "output_type": "display_data"
    }
   ],
   "source": [
    "fig, ax = plt.subplots(1,1,figsize = [12,8])\n",
    "fi.T[mcp_fi[\"featureName\"].values].boxplot(ax=ax, vert=False)"
   ]
  },
  {
   "cell_type": "markdown",
   "metadata": {},
   "source": [
    "## Converting One vs All Probs to multiclass probs.  \n",
    "\n",
    "If you already have probabilities, you can simply do `probs/probs.sum(axis=1, keepdims=True)`, which will normalize the probabilities for each row such that they sum to one.  \n",
    "\n",
    "A clever way to make class assignments for multiclass problems.  https://stats.stackexchange.com/questions/208915/one-vs-many-one-vs-all-what-value-to-use-as-probability"
   ]
  },
  {
   "cell_type": "code",
   "execution_count": 407,
   "metadata": {},
   "outputs": [],
   "source": [
    "datasets = [p.upload_dataset(df) for p in projects]"
   ]
  },
  {
   "cell_type": "code",
   "execution_count": 410,
   "metadata": {},
   "outputs": [],
   "source": [
    "preds_request = [(str(m.project), m.request_predictions(d.id)) for m, d in zip(models, datasets)]"
   ]
  },
  {
   "cell_type": "code",
   "execution_count": 413,
   "metadata": {},
   "outputs": [],
   "source": [
    "pred_results = [p.get_result_when_complete() for p in preds_request]"
   ]
  },
  {
   "cell_type": "code",
   "execution_count": 425,
   "metadata": {},
   "outputs": [],
   "source": [
    "preds_results_df = pd.DataFrame([p[\"positive_probability\"] for p in pred_results]).T\n",
    "preds_results_df.columns = [str(p) for p in projects]"
   ]
  },
  {
   "cell_type": "code",
   "execution_count": 429,
   "metadata": {},
   "outputs": [],
   "source": [
    "norm_preds_results_df = preds_results_df / preds_results_df.values.sum(axis=1, keepdims=True)"
   ]
  },
  {
   "cell_type": "code",
   "execution_count": 431,
   "metadata": {},
   "outputs": [
    {
     "data": {
      "text/html": [
       "<div>\n",
       "<style scoped>\n",
       "    .dataframe tbody tr th:only-of-type {\n",
       "        vertical-align: middle;\n",
       "    }\n",
       "\n",
       "    .dataframe tbody tr th {\n",
       "        vertical-align: top;\n",
       "    }\n",
       "\n",
       "    .dataframe thead th {\n",
       "        text-align: right;\n",
       "    }\n",
       "</style>\n",
       "<table border=\"1\" class=\"dataframe\">\n",
       "  <thead>\n",
       "    <tr style=\"text-align: right;\">\n",
       "      <th></th>\n",
       "      <th>Project(email discount)</th>\n",
       "      <th>Project(sms gift)</th>\n",
       "      <th>Project(sms discount)</th>\n",
       "      <th>Project(sms destination)</th>\n",
       "      <th>Project(email destination)</th>\n",
       "      <th>Project(no action)</th>\n",
       "      <th>Project(email gift)</th>\n",
       "      <th>Project(mail gift)</th>\n",
       "      <th>Project(mail destination)</th>\n",
       "      <th>Project(mail discount)</th>\n",
       "    </tr>\n",
       "  </thead>\n",
       "  <tbody>\n",
       "    <tr>\n",
       "      <th>0</th>\n",
       "      <td>0.884252</td>\n",
       "      <td>0.000048</td>\n",
       "      <td>0.002353</td>\n",
       "      <td>0.006067</td>\n",
       "      <td>0.097669</td>\n",
       "      <td>0.003038</td>\n",
       "      <td>0.005754</td>\n",
       "      <td>0.000171</td>\n",
       "      <td>0.000055</td>\n",
       "      <td>0.000591</td>\n",
       "    </tr>\n",
       "    <tr>\n",
       "      <th>1</th>\n",
       "      <td>0.000177</td>\n",
       "      <td>0.953645</td>\n",
       "      <td>0.000111</td>\n",
       "      <td>0.045355</td>\n",
       "      <td>0.000161</td>\n",
       "      <td>0.000382</td>\n",
       "      <td>0.000036</td>\n",
       "      <td>0.000106</td>\n",
       "      <td>0.000025</td>\n",
       "      <td>0.000003</td>\n",
       "    </tr>\n",
       "    <tr>\n",
       "      <th>2</th>\n",
       "      <td>0.001491</td>\n",
       "      <td>0.001307</td>\n",
       "      <td>0.055266</td>\n",
       "      <td>0.030863</td>\n",
       "      <td>0.823695</td>\n",
       "      <td>0.069288</td>\n",
       "      <td>0.011282</td>\n",
       "      <td>0.003892</td>\n",
       "      <td>0.000686</td>\n",
       "      <td>0.002229</td>\n",
       "    </tr>\n",
       "    <tr>\n",
       "      <th>3</th>\n",
       "      <td>0.974727</td>\n",
       "      <td>0.000007</td>\n",
       "      <td>0.000036</td>\n",
       "      <td>0.019573</td>\n",
       "      <td>0.002533</td>\n",
       "      <td>0.000031</td>\n",
       "      <td>0.003044</td>\n",
       "      <td>0.000030</td>\n",
       "      <td>0.000012</td>\n",
       "      <td>0.000007</td>\n",
       "    </tr>\n",
       "    <tr>\n",
       "      <th>4</th>\n",
       "      <td>0.001277</td>\n",
       "      <td>0.003292</td>\n",
       "      <td>0.000113</td>\n",
       "      <td>0.928924</td>\n",
       "      <td>0.039124</td>\n",
       "      <td>0.000021</td>\n",
       "      <td>0.001250</td>\n",
       "      <td>0.021349</td>\n",
       "      <td>0.002922</td>\n",
       "      <td>0.001727</td>\n",
       "    </tr>\n",
       "  </tbody>\n",
       "</table>\n",
       "</div>"
      ],
      "text/plain": [
       "   Project(email discount)  Project(sms gift)  Project(sms discount)  \\\n",
       "0                 0.884252           0.000048               0.002353   \n",
       "1                 0.000177           0.953645               0.000111   \n",
       "2                 0.001491           0.001307               0.055266   \n",
       "3                 0.974727           0.000007               0.000036   \n",
       "4                 0.001277           0.003292               0.000113   \n",
       "\n",
       "   Project(sms destination)  Project(email destination)  Project(no action)  \\\n",
       "0                  0.006067                    0.097669            0.003038   \n",
       "1                  0.045355                    0.000161            0.000382   \n",
       "2                  0.030863                    0.823695            0.069288   \n",
       "3                  0.019573                    0.002533            0.000031   \n",
       "4                  0.928924                    0.039124            0.000021   \n",
       "\n",
       "   Project(email gift)  Project(mail gift)  Project(mail destination)  \\\n",
       "0             0.005754            0.000171                   0.000055   \n",
       "1             0.000036            0.000106                   0.000025   \n",
       "2             0.011282            0.003892                   0.000686   \n",
       "3             0.003044            0.000030                   0.000012   \n",
       "4             0.001250            0.021349                   0.002922   \n",
       "\n",
       "   Project(mail discount)  \n",
       "0                0.000591  \n",
       "1                0.000003  \n",
       "2                0.002229  \n",
       "3                0.000007  \n",
       "4                0.001727  "
      ]
     },
     "execution_count": 431,
     "metadata": {},
     "output_type": "execute_result"
    }
   ],
   "source": [
    "norm_preds_results_df.head()"
   ]
  },
  {
   "cell_type": "code",
   "execution_count": null,
   "metadata": {},
   "outputs": [],
   "source": []
  }
 ],
 "metadata": {
  "kernelspec": {
   "display_name": "Python 3",
   "language": "python",
   "name": "python3"
  },
  "language_info": {
   "codemirror_mode": {
    "name": "ipython",
    "version": 3
   },
   "file_extension": ".py",
   "mimetype": "text/x-python",
   "name": "python",
   "nbconvert_exporter": "python",
   "pygments_lexer": "ipython3",
   "version": "3.7.5"
  }
 },
 "nbformat": 4,
 "nbformat_minor": 4
}
